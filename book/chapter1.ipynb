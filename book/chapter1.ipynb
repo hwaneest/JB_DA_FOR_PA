{
 "cells": [
  {
   "cell_type": "markdown",
   "id": "67d36cfd-7b35-4804-b5ff-4d452d400972",
   "metadata": {},
   "source": [
    "# This is Ch.1."
   ]
  },
  {
   "cell_type": "code",
   "execution_count": 2,
   "id": "bbfc643b-a56a-4cd0-983b-59e1e89b2443",
   "metadata": {},
   "outputs": [
    {
     "name": "stdout",
     "output_type": "stream",
     "text": [
      "3\n"
     ]
    }
   ],
   "source": [
    "print(3)"
   ]
  },
  {
   "cell_type": "markdown",
   "id": "20e49263-8502-4797-8512-64540dac990d",
   "metadata": {},
   "source": [
    "> ## Here is my own Line-Sticker! Just get this!\n",
    "> **https://store.line.me/stickershop/product/24151638/ko**"
   ]
  },
  {
   "cell_type": "code",
   "execution_count": null,
   "id": "f2147f19-a884-42bb-9f54-6c4512bc2366",
   "metadata": {},
   "outputs": [],
   "source": []
  }
 ],
 "metadata": {
  "kernelspec": {
   "display_name": "Python 3 (ipykernel)",
   "language": "python",
   "name": "python3"
  },
  "language_info": {
   "codemirror_mode": {
    "name": "ipython",
    "version": 3
   },
   "file_extension": ".py",
   "mimetype": "text/x-python",
   "name": "python",
   "nbconvert_exporter": "python",
   "pygments_lexer": "ipython3",
   "version": "3.10.9"
  }
 },
 "nbformat": 4,
 "nbformat_minor": 5
}
