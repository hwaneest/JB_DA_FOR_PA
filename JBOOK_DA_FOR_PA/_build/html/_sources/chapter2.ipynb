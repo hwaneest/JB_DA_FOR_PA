{
 "cells": [
  {
   "cell_type": "markdown",
   "id": "7421c192-8a40-48e5-8297-2c1923c3c5f6",
   "metadata": {},
   "source": [
    "# This is Ch.2"
   ]
  },
  {
   "cell_type": "code",
   "execution_count": null,
   "id": "f95468db-4686-4768-a975-95459464768a",
   "metadata": {},
   "outputs": [],
   "source": []
  }
 ],
 "metadata": {
  "kernelspec": {
   "display_name": "Python 3 (ipykernel)",
   "language": "python",
   "name": "python3"
  },
  "language_info": {
   "codemirror_mode": {
    "name": "ipython",
    "version": 3
   },
   "file_extension": ".py",
   "mimetype": "text/x-python",
   "name": "python",
   "nbconvert_exporter": "python",
   "pygments_lexer": "ipython3",
   "version": "3.10.9"
  }
 },
 "nbformat": 4,
 "nbformat_minor": 5
}
